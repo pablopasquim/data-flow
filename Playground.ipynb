{
  "nbformat": 4,
  "nbformat_minor": 0,
  "metadata": {
    "colab": {
      "private_outputs": true,
      "provenance": [],
      "authorship_tag": "ABX9TyNfe7jQJFXYg7FhcVGHe52v",
      "include_colab_link": true
    },
    "kernelspec": {
      "name": "python3",
      "display_name": "Python 3"
    },
    "language_info": {
      "name": "python"
    }
  },
  "cells": [
    {
      "cell_type": "markdown",
      "metadata": {
        "id": "view-in-github",
        "colab_type": "text"
      },
      "source": [
        "<a href=\"https://colab.research.google.com/github/pablopasquim/data-flow/blob/main/Playground.ipynb\" target=\"_parent\"><img src=\"https://colab.research.google.com/assets/colab-badge.svg\" alt=\"Open In Colab\"/></a>"
      ]
    },
    {
      "cell_type": "markdown",
      "source": [
        "## Introdução ao Python: Passo a Passo Básico\n",
        "\n",
        "**Este documento fornece um guia básico sobre a sintaxe do Python e alguns conceitos fundamentais.**\n",
        "\n",
        " ---\n",
        "\n"
      ],
      "metadata": {
        "id": "60xOS0WYh6v9"
      }
    },
    {
      "cell_type": "code",
      "source": [
        "# prompt: Faça um passo a passo básico e sintaxe em python\n",
        "\n",
        "# Isto é um comentário\n",
        "# O interpretador Python ignora os comentários, eles são apenas para humanos\n",
        "\n",
        "# Imprimir \"Olá, Mundo!\"\n",
        "print(\"Olá, Mundo!\")\n",
        "\n",
        "# Variáveis\n",
        "nome = \"Alice\"\n",
        "idade = 30\n",
        "print(\"Olá,\", nome, \"você tem\", idade, \"anos.\")\n",
        "\n",
        "# Tipos de dados\n",
        "texto = \"Olá\"  # string (texto)\n",
        "numero_inteiro = 10  # inteiro\n",
        "numero_decimal = 3.14  # float (número de ponto flutuante)\n",
        "booleano = True  # booleano (Verdadeiro ou Falso)\n",
        "\n",
        "# Operações matemáticas\n",
        "soma = 5 + 3\n",
        "subtracao = 10 - 2\n",
        "multiplicacao = 4 * 6\n",
        "divisao = 12 / 3\n",
        "print(soma, subtracao, multiplicacao, divisao)\n",
        "\n",
        "# Listas\n",
        "frutas = [\"maçã\", \"banana\", \"laranja\"]\n",
        "print(frutas[0])  # Acessa o primeiro elemento da lista (maçã)\n",
        "\n",
        "# Dicionários\n",
        "pessoa = {\"nome\": \"Bob\", \"idade\": 25, \"cidade\": \"São Paulo\"}\n",
        "print(pessoa[\"nome\"])  # Acessa o valor da chave \"nome\" (Bob)\n",
        "\n",
        "# Condicionais (if-else)\n",
        "numero = 7\n",
        "if numero > 5:\n",
        "  print(\"O número é maior que 5\")\n",
        "else:\n",
        "  print(\"O número é menor ou igual a 5\")\n",
        "\n",
        "# Loops (for)\n",
        "for i in range(5):  # Repete 5 vezes\n",
        "  print(i)\n",
        "\n",
        "# Funções\n",
        "def saudacao(nome):\n",
        "  print(\"Olá,\", nome, \"!\")\n",
        "\n",
        "saudacao(\"Maria\")\n"
      ],
      "metadata": {
        "id": "pHyAObX6hpag"
      },
      "execution_count": null,
      "outputs": []
    }
  ]
}